{
  "nbformat": 4,
  "nbformat_minor": 0,
  "metadata": {
    "colab": {
      "name": "okulo_landcover.ipynb",
      "provenance": [],
      "collapsed_sections": [],
      "toc_visible": true,
      "machine_shape": "hm"
    },
    "kernelspec": {
      "name": "python3",
      "display_name": "Python 3"
    },
    "accelerator": "GPU"
  },
  "cells": [
    {
      "cell_type": "markdown",
      "metadata": {
        "id": "view-in-github",
        "colab_type": "text"
      },
      "source": [
        "<a href=\"https://colab.research.google.com/github/satyajitghana/TSAI-DeepVision-EVA4.0/blob/master/Utils/Colab_25GBRAM_GPU.ipynb\" target=\"_parent\"><img src=\"https://colab.research.google.com/assets/colab-badge.svg\" alt=\"Open In Colab\"/></a>"
      ]
    },
    {
      "cell_type": "markdown",
      "metadata": {
        "id": "EdHVQrqyDB50",
        "colab_type": "text"
      },
      "source": [
        "# Memory Information"
      ]
    },
    {
      "cell_type": "code",
      "metadata": {
        "id": "E58HaeA6CsM9",
        "colab_type": "code",
        "colab": {
          "base_uri": "https://localhost:8080/",
          "height": 102
        },
        "outputId": "9d4f3694-2d47-4c70-aa85-695c91d57dc1"
      },
      "source": [
        "import psutil\n",
        "def get_size(bytes, suffix=\"B\"):\n",
        "    factor = 1024\n",
        "    for unit in [\"\", \"K\", \"M\", \"G\", \"T\", \"P\"]:\n",
        "        if bytes < factor:\n",
        "            return f\"{bytes:.2f}{unit}{suffix}\"\n",
        "        bytes /= factor\n",
        "print(\"=\"*40, \"Memory Information\", \"=\"*40)\n",
        "svmem = psutil.virtual_memory()\n",
        "print(f\"Total: {get_size(svmem.total)}\") ; print(f\"Available: {get_size(svmem.available)}\")\n",
        "print(f\"Used: {get_size(svmem.used)}\") ; print(f\"Percentage: {svmem.percent}%\")"
      ],
      "execution_count": null,
      "outputs": [
        {
          "output_type": "stream",
          "text": [
            "======================================== Memory Information ========================================\n",
            "Total: 25.51GB\n",
            "Available: 24.54GB\n",
            "Used: 634.74MB\n",
            "Percentage: 3.8%\n"
          ],
          "name": "stdout"
        }
      ]
    },
    {
      "cell_type": "markdown",
      "metadata": {
        "id": "FgVfBlvZDEja",
        "colab_type": "text"
      },
      "source": [
        "# GPU Information"
      ]
    },
    {
      "cell_type": "code",
      "metadata": {
        "id": "rxlkxvkrCyin",
        "colab_type": "code",
        "colab": {
          "base_uri": "https://localhost:8080/",
          "height": 306
        },
        "outputId": "99916b4e-f42b-42c4-f932-fd6a698ccccb"
      },
      "source": [
        "! nvidia-smi"
      ],
      "execution_count": null,
      "outputs": [
        {
          "output_type": "stream",
          "text": [
            "Sat May 16 10:39:27 2020       \n",
            "+-----------------------------------------------------------------------------+\n",
            "| NVIDIA-SMI 440.82       Driver Version: 418.67       CUDA Version: 10.1     |\n",
            "|-------------------------------+----------------------+----------------------+\n",
            "| GPU  Name        Persistence-M| Bus-Id        Disp.A | Volatile Uncorr. ECC |\n",
            "| Fan  Temp  Perf  Pwr:Usage/Cap|         Memory-Usage | GPU-Util  Compute M. |\n",
            "|===============================+======================+======================|\n",
            "|   0  Tesla P100-PCIE...  Off  | 00000000:00:04.0 Off |                    0 |\n",
            "| N/A   36C    P0    26W / 250W |      0MiB / 16280MiB |      0%      Default |\n",
            "+-------------------------------+----------------------+----------------------+\n",
            "                                                                               \n",
            "+-----------------------------------------------------------------------------+\n",
            "| Processes:                                                       GPU Memory |\n",
            "|  GPU       PID   Type   Process name                             Usage      |\n",
            "|=============================================================================|\n",
            "|  No running processes found                                                 |\n",
            "+-----------------------------------------------------------------------------+\n"
          ],
          "name": "stdout"
        }
      ]
    },
    {
      "cell_type": "code",
      "metadata": {
        "id": "jyDODoaWC6KI",
        "colab_type": "code",
        "colab": {
          "base_uri": "https://localhost:8080/",
          "height": 34
        },
        "outputId": "3442ea5b-39a4-48e3-d8fa-e977a69cdf0a"
      },
      "source": [
        "from google.colab import drive\n",
        "drive.mount('/content/drive', force_remount=True)"
      ],
      "execution_count": null,
      "outputs": [
        {
          "output_type": "stream",
          "text": [
            "Mounted at /content/drive\n"
          ],
          "name": "stdout"
        }
      ]
    },
    {
      "cell_type": "code",
      "metadata": {
        "id": "0TockdZ1300Q",
        "colab_type": "code",
        "colab": {
          "base_uri": "https://localhost:8080/",
          "height": 34
        },
        "outputId": "201904be-74e3-4a2f-bb8e-fe9a9ab7c14f"
      },
      "source": [
        "!ls drive/My\\ Drive/ML-work/Okulo\\ aerospace/Land\\ cover\\ classification"
      ],
      "execution_count": null,
      "outputs": [
        {
          "output_type": "stream",
          "text": [
            "\u001b[0m\u001b[01;34mData\u001b[0m/  \u001b[01;34mmodels\u001b[0m/  test_feature_deepsat_6.csv  train_feature_deepstat_6.csv\n"
          ],
          "name": "stdout"
        }
      ]
    },
    {
      "cell_type": "code",
      "metadata": {
        "id": "MlawgPuP30_q",
        "colab_type": "code",
        "colab": {
          "base_uri": "https://localhost:8080/",
          "height": 34
        },
        "outputId": "e82496f6-48e9-40d3-8421-8a0798922e4e"
      },
      "source": [
        "cd drive/My\\ Drive/ML-work/Okulo\\ aerospace/Land\\ cover\\ classification"
      ],
      "execution_count": null,
      "outputs": [
        {
          "output_type": "stream",
          "text": [
            "/content/drive/My Drive/ML-work/Okulo aerospace/Land cover classification\n"
          ],
          "name": "stdout"
        }
      ]
    },
    {
      "cell_type": "code",
      "metadata": {
        "id": "ftpqdjq_31HP",
        "colab_type": "code",
        "colab": {
          "base_uri": "https://localhost:8080/",
          "height": 34
        },
        "outputId": "2cafa722-1fbf-4684-a9f1-a6628cb5a84f"
      },
      "source": [
        "import tensorflow as tf\n",
        "\n",
        "tf.test.gpu_device_name()"
      ],
      "execution_count": null,
      "outputs": [
        {
          "output_type": "execute_result",
          "data": {
            "text/plain": [
              "'/device:GPU:0'"
            ]
          },
          "metadata": {
            "tags": []
          },
          "execution_count": 3
        }
      ]
    },
    {
      "cell_type": "code",
      "metadata": {
        "id": "UyKJTXs-31Ng",
        "colab_type": "code",
        "colab": {
          "base_uri": "https://localhost:8080/",
          "height": 50
        },
        "outputId": "cbd79c5e-076f-417c-f48e-f5a3f9da8867"
      },
      "source": [
        "import numpy as np\n",
        "import time\n",
        "import pandas as pd\n",
        "import tensorflow as tf\n",
        "import matplotlib.pyplot as plt\n",
        "import plotly.express as px\n",
        "from skimage import color\n",
        "!pip install mahotas\n",
        "import mahotas as mt\n",
        "from skimage.color import rgb2gray\n",
        "import warnings\n",
        "warnings.filterwarnings(\"ignore\")\n"
      ],
      "execution_count": null,
      "outputs": [
        {
          "output_type": "stream",
          "text": [
            "Requirement already satisfied: mahotas in /usr/local/lib/python3.6/dist-packages (1.4.10)\n",
            "Requirement already satisfied: numpy in /usr/local/lib/python3.6/dist-packages (from mahotas) (1.18.5)\n"
          ],
          "name": "stdout"
        }
      ]
    },
    {
      "cell_type": "code",
      "metadata": {
        "id": "rNiG5hXw31UJ",
        "colab_type": "code",
        "colab": {
          "base_uri": "https://localhost:8080/",
          "height": 168
        },
        "outputId": "6841a568-da7f-4e36-9a9c-7af8603be75f"
      },
      "source": [
        "import os\n",
        "for dirname, _, filenames in os.walk('./'):\n",
        "    for filename in filenames:\n",
        "        print(os.path.join(dirname, filename))"
      ],
      "execution_count": null,
      "outputs": [
        {
          "output_type": "stream",
          "text": [
            "./train_feature_deepstat_6.csv\n",
            "./test_feature_deepsat_6.csv\n",
            "./Data/X_test_sat6.csv\n",
            "./Data/X_train_sat6.csv\n",
            "./Data/y_train_sat6.csv\n",
            "./Data/sat6annotations.csv\n",
            "./Data/y_test_sat6.csv\n",
            "./models/trained_model.json\n",
            "./models/model.h5\n"
          ],
          "name": "stdout"
        }
      ]
    },
    {
      "cell_type": "code",
      "metadata": {
        "id": "LKoT0zLh31Z6",
        "colab_type": "code",
        "colab": {}
      },
      "source": [
        "train_data_path=\"./Data/X_train_sat6.csv\"\n",
        "train_label_path=\"./Data/y_train_sat6.csv\"\n",
        "test_data_path=\"./Data/X_test_sat6.csv\"\n",
        "test_lable_path=\"./Data/y_test_sat6.csv\""
      ],
      "execution_count": null,
      "outputs": []
    },
    {
      "cell_type": "code",
      "metadata": {
        "id": "F4kgphD131fn",
        "colab_type": "code",
        "colab": {}
      },
      "source": [
        "def data_read(data_path, nrows):\n",
        "    data=pd.read_csv(data_path, header=None, nrows=nrows)\n",
        "    data=data.values ## converting the data into numpy array\n",
        "    return data"
      ],
      "execution_count": null,
      "outputs": []
    },
    {
      "cell_type": "code",
      "metadata": {
        "id": "6RTY5leh6W3B",
        "colab_type": "code",
        "colab": {
          "base_uri": "https://localhost:8080/",
          "height": 101
        },
        "outputId": "1cfaab95-b565-48e8-a5c2-67b0e4d35e0d"
      },
      "source": [
        "##Read training data\n",
        "train_data=data_read(train_data_path, nrows=500)\n",
        "print(\"Train data shape:\" + str(train_data.shape))\n",
        "\n",
        "##Read training data labels\n",
        "train_data_label=data_read(train_label_path,nrows=500)\n",
        "print(\"Train data label shape:\" + str(train_data_label.shape))\n",
        "print()\n",
        "\n",
        "##Read test data\n",
        "test_data=data_read(test_data_path, nrows=100)\n",
        "print(\"Test data shape:\" + str(test_data.shape))\n",
        "\n",
        "\n",
        "##Read test data labels\n",
        "test_data_label=data_read(test_lable_path,nrows=100)\n",
        "print(\"Test data label shape:\" + str(test_data_label.shape))"
      ],
      "execution_count": null,
      "outputs": [
        {
          "output_type": "stream",
          "text": [
            "Train data shape:(500, 3136)\n",
            "Train data label shape:(500, 6)\n",
            "\n",
            "Test data shape:(100, 3136)\n",
            "Test data label shape:(100, 6)\n"
          ],
          "name": "stdout"
        }
      ]
    },
    {
      "cell_type": "code",
      "metadata": {
        "id": "LLX_DJsC6ZYI",
        "colab_type": "code",
        "colab": {}
      },
      "source": [
        "def label_conv(label_arr):\n",
        "    labels=[]\n",
        "    for i in range(len(label_arr)):\n",
        "        \n",
        "        if (label_arr[i]==[1,0,0,0,0,0]).all():\n",
        "            labels.append(\"Building\")  \n",
        "            \n",
        "        elif (label_arr[i]==[0,1,0,0,0,0]).all():  \n",
        "            labels.append(\"Barren_land\")  \n",
        "            \n",
        "        elif (label_arr[i]==[0,0,1,0,0,0]).all():\n",
        "            labels.append(\"Tree\") \n",
        "            \n",
        "        elif (label_arr[i]==[0,0,0,1,0,0]).all():\n",
        "            labels.append(\"Grassland\")\n",
        "            \n",
        "        elif (label_arr[i]==[0,0,0,0,1,0]).all():\n",
        "            labels.append(\"Road\") \n",
        "            \n",
        "        else:\n",
        "            labels.append(\"Water\")\n",
        "    return labels\n",
        "train_label_convert=label_conv(train_data_label)##train label conveter\n",
        "test_label_convert=label_conv(test_data_label) ##test label converter\n",
        "\n",
        "\n",
        "def data_visualization(data, label, n):\n",
        "    ##data: training or test data\n",
        "    ##label: training or test labels\n",
        "    ## n: number of data point, it should be less than or equal to no. of data points\n",
        "    fig = plt.figure(figsize=(14, 14))\n",
        "    ax = []  # ax enables access to manipulate each of subplots\n",
        "    rows, columns=4,4\n",
        "    for i in range(columns*rows):\n",
        "        index=np.random.randint(1,n)\n",
        "        img= data[index].reshape([28,28,4])[:,:,:3] ##reshape input data to rgb image\n",
        "        ax.append( fig.add_subplot(rows, columns, i+1) ) # create subplot and append to ax\n",
        "        ax[-1].set_title(\"Class:\"+str(label[index]))  # set class\n",
        "        plt.axis(\"off\")\n",
        "        plt.imshow(img)\n",
        "\n",
        "    plt.subplots_adjust(wspace=0.1,hspace=0.5)\n",
        "    plt.show()  # finally, render the plot"
      ],
      "execution_count": null,
      "outputs": []
    },
    {
      "cell_type": "code",
      "metadata": {
        "id": "wpyTuqMO7P0A",
        "colab_type": "code",
        "colab": {
          "base_uri": "https://localhost:8080/",
          "height": 808
        },
        "outputId": "6089a848-1c99-4e02-f69c-e67c0a96ce2e"
      },
      "source": [
        "data_visualization(train_data,train_label_convert, n=500)"
      ],
      "execution_count": null,
      "outputs": [
        {
          "output_type": "display_data",
          "data": {
            "image/png": "[encoded data removed]",
            "text/plain": [
              "<Figure size 1008x1008 with 16 Axes>"
            ]
          },
          "metadata": {
            "tags": [],
            "needs_background": "light"
          }
        }
      ]
    },
    {
      "cell_type": "code",
      "metadata": {
        "id": "pTCRgi8_6ZiM",
        "colab_type": "code",
        "colab": {
          "base_uri": "https://localhost:8080/",
          "height": 808
        },
        "outputId": "c6f68700-0ee1-4139-d1cc-13f7d154fc01"
      },
      "source": [
        "data_visualization(test_data,test_label_convert, n=100)"
      ],
      "execution_count": null,
      "outputs": [
        {
          "output_type": "display_data",
          "data": {
            "image/png": "[encoded data removed]",
            "text/plain": [
              "<Figure size 1008x1008 with 16 Axes>"
            ]
          },
          "metadata": {
            "tags": [],
            "needs_background": "light"
          }
        }
      ]
    },
    {
      "cell_type": "code",
      "metadata": {
        "id": "W96KawCs6ZuI",
        "colab_type": "code",
        "colab": {}
      },
      "source": [
        "def feature_extractor(input_image_file):\n",
        "    \n",
        "        tex_feature=[]\n",
        "        hsv_feature=[]\n",
        "        ndvi_feature=[]\n",
        "        arvi_feature=[]\n",
        "\n",
        "        for df_chunk in pd.read_csv(input_image_file ,header=None,chunksize = 50000):\n",
        "\n",
        "            df_chunk=df_chunk.astype(\"int32\")\n",
        "            data=df_chunk.values\n",
        "            print(len(data))\n",
        "\n",
        "            ################data for HSV and Texture feature##############\n",
        "            img=data.reshape(-1,28,28,4)[:,:,:,:3]\n",
        "            #############################################################\n",
        "\n",
        "            ######################Data for NDVI and ARVI#################\n",
        "\n",
        "            NIR=data.reshape(-1,28,28,4)[:,:,:,3]\n",
        "            Red=data.reshape(-1,28,28,4)[:,:,:,2]\n",
        "            Blue=data.reshape(-1,28,28,4)[:,:,:,0]\n",
        "            #############################################################\n",
        "\n",
        "            for i in range(len(data)):\n",
        "\n",
        "                #######Texture_feature####################################\n",
        "                textures = mt.features.haralick(img[i])\n",
        "                ht_mean= textures.mean(axis=0)\n",
        "                tex_feature.append(ht_mean)\n",
        "                ##########################################################\n",
        "\n",
        "                #######hsv_feature#########################################\n",
        "                img_hsv = color.rgb2hsv(img[i]) # Image into HSV colorspace\n",
        "                h = img_hsv[:,:,0] # Hue\n",
        "                s = img_hsv[:,:,1] # Saturation\n",
        "                v = img_hsv[:,:,2] # Value aka Lightness\n",
        "                hsv_feature.append((h.mean(),s.mean(),v.mean()))\n",
        "                ###########################################################\n",
        "\n",
        "                ##########Calculation of NDVI Feature######################\n",
        "                NDVI=(NIR[i]-Red[i])/(NIR[i]+Red[i])\n",
        "                ndvi_feature.append(NDVI.mean())\n",
        "                ############################################################\n",
        "\n",
        "                ###################Calculation of ARVI#####################\n",
        "                a_1=NIR[i] -(2*Red[i]-Blue[i])\n",
        "                a_2=NIR[i] +(2*Red[i]+Blue[i])\n",
        "                arvi=a_1/a_2\n",
        "                arvi_feature.append(arvi.mean())\n",
        "                #######################################################\n",
        "\n",
        "        features=[]\n",
        "        for i in range(len(tex_feature)):\n",
        "            h_stack=np.hstack((tex_feature[i], hsv_feature[i], ndvi_feature[i], arvi_feature[i]))\n",
        "            features.append(h_stack)\n",
        "            \n",
        "        return features"
      ],
      "execution_count": null,
      "outputs": []
    },
    {
      "cell_type": "code",
      "metadata": {
        "id": "-CMd8m6MyBvT",
        "colab_type": "code",
        "colab": {
          "base_uri": "https://localhost:8080/",
          "height": 134
        },
        "outputId": "00e77af6-80e4-453f-daee-3672820cad69"
      },
      "source": [
        "train_data_features=feature_extractor(train_data_path)"
      ],
      "execution_count": null,
      "outputs": [
        {
          "output_type": "stream",
          "text": [
            "50000\n",
            "50000\n",
            "50000\n",
            "50000\n",
            "50000\n",
            "50000\n",
            "24000\n"
          ],
          "name": "stdout"
        }
      ]
    },
    {
      "cell_type": "code",
      "metadata": {
        "id": "fc4F4CRD6Z3a",
        "colab_type": "code",
        "colab": {}
      },
      "source": [
        "# saving train data features\n",
        "cols=[]\n",
        "for i in range(len(train_data_features[0])):\n",
        "    cols.append(\"feature\"+ str(i))\n",
        "feature=pd.DataFrame(train_data_features, columns=cols)\n",
        "feature.to_csv(\"train_feature_deepstat_6.csv\")"
      ],
      "execution_count": null,
      "outputs": []
    },
    {
      "cell_type": "code",
      "metadata": {
        "id": "c75T2XiqyB_J",
        "colab_type": "code",
        "colab": {
          "base_uri": "https://localhost:8080/",
          "height": 50
        },
        "outputId": "20945231-5f9f-4cfb-9b6e-bce720cca90a"
      },
      "source": [
        "#test data features extraction\n",
        "test_data_features=feature_extractor(test_data_path)"
      ],
      "execution_count": null,
      "outputs": [
        {
          "output_type": "stream",
          "text": [
            "50000\n",
            "31000\n"
          ],
          "name": "stdout"
        }
      ]
    },
    {
      "cell_type": "code",
      "metadata": {
        "id": "c-9hB4H46aAx",
        "colab_type": "code",
        "colab": {}
      },
      "source": [
        "feature_test=pd.DataFrame(test_data_features, columns=[\"feature\"+ str(i) for i in range(len(train_data_features[0]))])\n",
        "feature_test.to_csv(\"test_feature_deepsat_6.csv\")"
      ],
      "execution_count": null,
      "outputs": []
    },
    {
      "cell_type": "code",
      "metadata": {
        "id": "9HwWx--86aK8",
        "colab_type": "code",
        "colab": {
          "base_uri": "https://localhost:8080/",
          "height": 34
        },
        "outputId": "09aca51c-9187-4cf2-ab6a-90bff08a687d"
      },
      "source": [
        "from sklearn.preprocessing import StandardScaler \n",
        "import keras\n",
        "from keras.models import Sequential\n",
        "from keras.layers import Dense, Dropout, BatchNormalization, Activation\n",
        "from keras.callbacks import EarlyStopping, ModelCheckpoint, TensorBoard\n",
        "from time import time\n",
        "from mlxtend.evaluate import confusion_matrix\n",
        "from mlxtend.plotting import plot_confusion_matrix\n",
        "import matplotlib.pyplot as plt\n",
        "import seaborn as sns"
      ],
      "execution_count": null,
      "outputs": [
        {
          "output_type": "stream",
          "text": [
            "Using TensorFlow backend.\n"
          ],
          "name": "stderr"
        }
      ]
    },
    {
      "cell_type": "code",
      "metadata": {
        "id": "NNafrTWa6aS4",
        "colab_type": "code",
        "colab": {}
      },
      "source": [
        "def data_read_(data_path):\n",
        "    df=pd.read_csv(data_path, index_col=[0])\n",
        "    return df\n",
        "\n",
        "def label_read(data_path):\n",
        "    df=pd.read_csv(data_path, header=None)\n",
        "    return df"
      ],
      "execution_count": null,
      "outputs": []
    },
    {
      "cell_type": "code",
      "metadata": {
        "id": "IGnKxUcy6abv",
        "colab_type": "code",
        "colab": {
          "base_uri": "https://localhost:8080/",
          "height": 50
        },
        "outputId": "ab306ec0-64c6-4372-944b-6c5d6905bad3"
      },
      "source": [
        "train_feature_deepstat_6=data_read_(data_path=\"./train_feature_deepstat_6.csv\")\n",
        "train_label=label_read(data_path=train_label_path)\n",
        "print(\"Training data shape: \",train_feature_deepstat_6.shape)\n",
        "print(\"Training label shape: \",train_label.shape)"
      ],
      "execution_count": null,
      "outputs": [
        {
          "output_type": "stream",
          "text": [
            "Training data shape:  (324000, 18)\n",
            "Training label shape:  (324000, 6)\n"
          ],
          "name": "stdout"
        }
      ]
    },
    {
      "cell_type": "code",
      "metadata": {
        "id": "8DM-12o76akQ",
        "colab_type": "code",
        "colab": {
          "base_uri": "https://localhost:8080/",
          "height": 299
        },
        "outputId": "ebc187b0-3f78-427c-df8a-f1a5a5beba2c"
      },
      "source": [
        "train_feature_deepstat_6.head()"
      ],
      "execution_count": null,
      "outputs": [
        {
          "output_type": "execute_result",
          "data": {
            "text/html": [
              "<div>\n",
              "<style scoped>\n",
              "    .dataframe tbody tr th:only-of-type {\n",
              "        vertical-align: middle;\n",
              "    }\n",
              "\n",
              "    .dataframe tbody tr th {\n",
              "        vertical-align: top;\n",
              "    }\n",
              "\n",
              "    .dataframe thead th {\n",
              "        text-align: right;\n",
              "    }\n",
              "</style>\n",
              "<table border=\"1\" class=\"dataframe\">\n",
              "  <thead>\n",
              "    <tr style=\"text-align: right;\">\n",
              "      <th></th>\n",
              "      <th>feature0</th>\n",
              "      <th>feature1</th>\n",
              "      <th>feature2</th>\n",
              "      <th>feature3</th>\n",
              "      <th>feature4</th>\n",
              "      <th>feature5</th>\n",
              "      <th>feature6</th>\n",
              "      <th>feature7</th>\n",
              "      <th>feature8</th>\n",
              "      <th>feature9</th>\n",
              "      <th>feature10</th>\n",
              "      <th>feature11</th>\n",
              "      <th>feature12</th>\n",
              "      <th>feature13</th>\n",
              "      <th>feature14</th>\n",
              "      <th>feature15</th>\n",
              "      <th>feature16</th>\n",
              "      <th>feature17</th>\n",
              "    </tr>\n",
              "  </thead>\n",
              "  <tbody>\n",
              "    <tr>\n",
              "      <th>0</th>\n",
              "      <td>0.000510</td>\n",
              "      <td>617.467448</td>\n",
              "      <td>0.744604</td>\n",
              "      <td>1208.225664</td>\n",
              "      <td>0.075734</td>\n",
              "      <td>165.287322</td>\n",
              "      <td>4215.435207</td>\n",
              "      <td>7.637573</td>\n",
              "      <td>11.158415</td>\n",
              "      <td>0.000144</td>\n",
              "      <td>5.546250</td>\n",
              "      <td>-0.356272</td>\n",
              "      <td>0.995773</td>\n",
              "      <td>0.365449</td>\n",
              "      <td>0.207631</td>\n",
              "      <td>4.211562e-08</td>\n",
              "      <td>0.130287</td>\n",
              "      <td>0.082918</td>\n",
              "    </tr>\n",
              "    <tr>\n",
              "      <th>1</th>\n",
              "      <td>0.001207</td>\n",
              "      <td>417.651225</td>\n",
              "      <td>0.397474</td>\n",
              "      <td>373.466474</td>\n",
              "      <td>0.082166</td>\n",
              "      <td>321.815240</td>\n",
              "      <td>1076.214670</td>\n",
              "      <td>6.722432</td>\n",
              "      <td>10.047084</td>\n",
              "      <td>0.000350</td>\n",
              "      <td>4.048463</td>\n",
              "      <td>-0.345718</td>\n",
              "      <td>0.991588</td>\n",
              "      <td>0.090416</td>\n",
              "      <td>0.258090</td>\n",
              "      <td>8.581116e-08</td>\n",
              "      <td>0.136626</td>\n",
              "      <td>0.142940</td>\n",
              "    </tr>\n",
              "    <tr>\n",
              "      <th>2</th>\n",
              "      <td>0.000398</td>\n",
              "      <td>1943.661871</td>\n",
              "      <td>0.403912</td>\n",
              "      <td>1619.892120</td>\n",
              "      <td>0.041302</td>\n",
              "      <td>156.599515</td>\n",
              "      <td>4535.906611</td>\n",
              "      <td>7.854340</td>\n",
              "      <td>11.419267</td>\n",
              "      <td>0.000051</td>\n",
              "      <td>6.343184</td>\n",
              "      <td>-0.394795</td>\n",
              "      <td>0.998089</td>\n",
              "      <td>0.599307</td>\n",
              "      <td>0.510874</td>\n",
              "      <td>5.071253e-08</td>\n",
              "      <td>-0.762366</td>\n",
              "      <td>-0.488413</td>\n",
              "    </tr>\n",
              "    <tr>\n",
              "      <th>3</th>\n",
              "      <td>0.000410</td>\n",
              "      <td>1016.512108</td>\n",
              "      <td>0.571321</td>\n",
              "      <td>1181.209671</td>\n",
              "      <td>0.048341</td>\n",
              "      <td>160.536238</td>\n",
              "      <td>3708.326575</td>\n",
              "      <td>7.776289</td>\n",
              "      <td>11.377842</td>\n",
              "      <td>0.000085</td>\n",
              "      <td>5.898673</td>\n",
              "      <td>-0.375375</td>\n",
              "      <td>0.997312</td>\n",
              "      <td>0.579702</td>\n",
              "      <td>0.435979</td>\n",
              "      <td>4.884989e-08</td>\n",
              "      <td>-0.779538</td>\n",
              "      <td>-0.482682</td>\n",
              "    </tr>\n",
              "    <tr>\n",
              "      <th>4</th>\n",
              "      <td>0.000647</td>\n",
              "      <td>487.816884</td>\n",
              "      <td>0.296176</td>\n",
              "      <td>345.964345</td>\n",
              "      <td>0.067422</td>\n",
              "      <td>288.690819</td>\n",
              "      <td>896.040495</td>\n",
              "      <td>6.823493</td>\n",
              "      <td>10.881089</td>\n",
              "      <td>0.000118</td>\n",
              "      <td>5.422547</td>\n",
              "      <td>-0.235495</td>\n",
              "      <td>0.972060</td>\n",
              "      <td>0.516917</td>\n",
              "      <td>0.193726</td>\n",
              "      <td>7.365289e-08</td>\n",
              "      <td>-0.659481</td>\n",
              "      <td>-0.320696</td>\n",
              "    </tr>\n",
              "  </tbody>\n",
              "</table>\n",
              "</div>"
            ],
            "text/plain": [
              "   feature0     feature1  feature2  ...     feature15  feature16  feature17\n",
              "0  0.000510   617.467448  0.744604  ...  4.211562e-08   0.130287   0.082918\n",
              "1  0.001207   417.651225  0.397474  ...  8.581116e-08   0.136626   0.142940\n",
              "2  0.000398  1943.661871  0.403912  ...  5.071253e-08  -0.762366  -0.488413\n",
              "3  0.000410  1016.512108  0.571321  ...  4.884989e-08  -0.779538  -0.482682\n",
              "4  0.000647   487.816884  0.296176  ...  7.365289e-08  -0.659481  -0.320696\n",
              "\n",
              "[5 rows x 18 columns]"
            ]
          },
          "metadata": {
            "tags": []
          },
          "execution_count": 15
        }
      ]
    },
    {
      "cell_type": "code",
      "metadata": {
        "id": "d7atSap731lB",
        "colab_type": "code",
        "colab": {
          "base_uri": "https://localhost:8080/",
          "height": 195
        },
        "outputId": "c12d8152-679a-443a-e3f4-a3ef0cd8a892"
      },
      "source": [
        "train_label.head()"
      ],
      "execution_count": null,
      "outputs": [
        {
          "output_type": "execute_result",
          "data": {
            "text/html": [
              "<div>\n",
              "<style scoped>\n",
              "    .dataframe tbody tr th:only-of-type {\n",
              "        vertical-align: middle;\n",
              "    }\n",
              "\n",
              "    .dataframe tbody tr th {\n",
              "        vertical-align: top;\n",
              "    }\n",
              "\n",
              "    .dataframe thead th {\n",
              "        text-align: right;\n",
              "    }\n",
              "</style>\n",
              "<table border=\"1\" class=\"dataframe\">\n",
              "  <thead>\n",
              "    <tr style=\"text-align: right;\">\n",
              "      <th></th>\n",
              "      <th>0</th>\n",
              "      <th>1</th>\n",
              "      <th>2</th>\n",
              "      <th>3</th>\n",
              "      <th>4</th>\n",
              "      <th>5</th>\n",
              "    </tr>\n",
              "  </thead>\n",
              "  <tbody>\n",
              "    <tr>\n",
              "      <th>0</th>\n",
              "      <td>0</td>\n",
              "      <td>0</td>\n",
              "      <td>1</td>\n",
              "      <td>0</td>\n",
              "      <td>0</td>\n",
              "      <td>0</td>\n",
              "    </tr>\n",
              "    <tr>\n",
              "      <th>1</th>\n",
              "      <td>0</td>\n",
              "      <td>1</td>\n",
              "      <td>0</td>\n",
              "      <td>0</td>\n",
              "      <td>0</td>\n",
              "      <td>0</td>\n",
              "    </tr>\n",
              "    <tr>\n",
              "      <th>2</th>\n",
              "      <td>0</td>\n",
              "      <td>0</td>\n",
              "      <td>0</td>\n",
              "      <td>0</td>\n",
              "      <td>0</td>\n",
              "      <td>1</td>\n",
              "    </tr>\n",
              "    <tr>\n",
              "      <th>3</th>\n",
              "      <td>0</td>\n",
              "      <td>0</td>\n",
              "      <td>0</td>\n",
              "      <td>0</td>\n",
              "      <td>0</td>\n",
              "      <td>1</td>\n",
              "    </tr>\n",
              "    <tr>\n",
              "      <th>4</th>\n",
              "      <td>0</td>\n",
              "      <td>0</td>\n",
              "      <td>0</td>\n",
              "      <td>0</td>\n",
              "      <td>0</td>\n",
              "      <td>1</td>\n",
              "    </tr>\n",
              "  </tbody>\n",
              "</table>\n",
              "</div>"
            ],
            "text/plain": [
              "   0  1  2  3  4  5\n",
              "0  0  0  1  0  0  0\n",
              "1  0  1  0  0  0  0\n",
              "2  0  0  0  0  0  1\n",
              "3  0  0  0  0  0  1\n",
              "4  0  0  0  0  0  1"
            ]
          },
          "metadata": {
            "tags": []
          },
          "execution_count": 16
        }
      ]
    },
    {
      "cell_type": "code",
      "metadata": {
        "id": "Xo3xUKlb31qW",
        "colab_type": "code",
        "colab": {
          "base_uri": "https://localhost:8080/",
          "height": 50
        },
        "outputId": "9d365f8e-246b-4598-976d-890ea4e8dd10"
      },
      "source": [
        "test_feature_deepsat_6=data_read_(data_path=\"./test_feature_deepsat_6.csv\")\n",
        "test_label=label_read(data_path=test_lable_path)\n",
        "print(\"Training data shape: \",test_feature_deepsat_6.shape)\n",
        "print(\"Training label shape: \",test_label.shape)"
      ],
      "execution_count": null,
      "outputs": [
        {
          "output_type": "stream",
          "text": [
            "Training data shape:  (81000, 18)\n",
            "Training label shape:  (81000, 6)\n"
          ],
          "name": "stdout"
        }
      ]
    },
    {
      "cell_type": "code",
      "metadata": {
        "id": "yPMhTYuA-YNa",
        "colab_type": "code",
        "colab": {
          "base_uri": "https://localhost:8080/",
          "height": 299
        },
        "outputId": "585d207a-fcd6-4f9b-93ca-edd7adef69a9"
      },
      "source": [
        "test_feature_deepsat_6.head()"
      ],
      "execution_count": null,
      "outputs": [
        {
          "output_type": "execute_result",
          "data": {
            "text/html": [
              "<div>\n",
              "<style scoped>\n",
              "    .dataframe tbody tr th:only-of-type {\n",
              "        vertical-align: middle;\n",
              "    }\n",
              "\n",
              "    .dataframe tbody tr th {\n",
              "        vertical-align: top;\n",
              "    }\n",
              "\n",
              "    .dataframe thead th {\n",
              "        text-align: right;\n",
              "    }\n",
              "</style>\n",
              "<table border=\"1\" class=\"dataframe\">\n",
              "  <thead>\n",
              "    <tr style=\"text-align: right;\">\n",
              "      <th></th>\n",
              "      <th>feature0</th>\n",
              "      <th>feature1</th>\n",
              "      <th>feature2</th>\n",
              "      <th>feature3</th>\n",
              "      <th>feature4</th>\n",
              "      <th>feature5</th>\n",
              "      <th>feature6</th>\n",
              "      <th>feature7</th>\n",
              "      <th>feature8</th>\n",
              "      <th>feature9</th>\n",
              "      <th>feature10</th>\n",
              "      <th>feature11</th>\n",
              "      <th>feature12</th>\n",
              "      <th>feature13</th>\n",
              "      <th>feature14</th>\n",
              "      <th>feature15</th>\n",
              "      <th>feature16</th>\n",
              "      <th>feature17</th>\n",
              "    </tr>\n",
              "  </thead>\n",
              "  <tbody>\n",
              "    <tr>\n",
              "      <th>0</th>\n",
              "      <td>0.000472</td>\n",
              "      <td>825.146019</td>\n",
              "      <td>0.483915</td>\n",
              "      <td>799.436334</td>\n",
              "      <td>0.054771</td>\n",
              "      <td>163.380355</td>\n",
              "      <td>2372.599315</td>\n",
              "      <td>7.433824</td>\n",
              "      <td>11.232332</td>\n",
              "      <td>0.000107</td>\n",
              "      <td>5.772372</td>\n",
              "      <td>-0.321464</td>\n",
              "      <td>0.992508</td>\n",
              "      <td>0.342550</td>\n",
              "      <td>0.203484</td>\n",
              "      <td>4.158225e-08</td>\n",
              "      <td>0.300045</td>\n",
              "      <td>0.188149</td>\n",
              "    </tr>\n",
              "    <tr>\n",
              "      <th>1</th>\n",
              "      <td>0.000747</td>\n",
              "      <td>450.118996</td>\n",
              "      <td>0.520765</td>\n",
              "      <td>468.906282</td>\n",
              "      <td>0.082015</td>\n",
              "      <td>203.764809</td>\n",
              "      <td>1425.506132</td>\n",
              "      <td>7.055624</td>\n",
              "      <td>10.791574</td>\n",
              "      <td>0.000153</td>\n",
              "      <td>5.301941</td>\n",
              "      <td>-0.278724</td>\n",
              "      <td>0.983755</td>\n",
              "      <td>0.203896</td>\n",
              "      <td>0.131008</td>\n",
              "      <td>5.035616e-08</td>\n",
              "      <td>0.235854</td>\n",
              "      <td>0.156365</td>\n",
              "    </tr>\n",
              "    <tr>\n",
              "      <th>2</th>\n",
              "      <td>0.000375</td>\n",
              "      <td>1244.129580</td>\n",
              "      <td>0.599170</td>\n",
              "      <td>1543.860577</td>\n",
              "      <td>0.041937</td>\n",
              "      <td>224.183576</td>\n",
              "      <td>4931.312727</td>\n",
              "      <td>7.980644</td>\n",
              "      <td>11.476607</td>\n",
              "      <td>0.000063</td>\n",
              "      <td>6.082126</td>\n",
              "      <td>-0.409750</td>\n",
              "      <td>0.998548</td>\n",
              "      <td>0.565407</td>\n",
              "      <td>0.333206</td>\n",
              "      <td>6.285180e-08</td>\n",
              "      <td>-0.672770</td>\n",
              "      <td>-0.387071</td>\n",
              "    </tr>\n",
              "    <tr>\n",
              "      <th>3</th>\n",
              "      <td>0.001382</td>\n",
              "      <td>388.768318</td>\n",
              "      <td>0.387355</td>\n",
              "      <td>330.283150</td>\n",
              "      <td>0.064144</td>\n",
              "      <td>272.052422</td>\n",
              "      <td>932.364281</td>\n",
              "      <td>6.665846</td>\n",
              "      <td>9.931245</td>\n",
              "      <td>0.000168</td>\n",
              "      <td>4.945995</td>\n",
              "      <td>-0.221024</td>\n",
              "      <td>0.951162</td>\n",
              "      <td>0.068662</td>\n",
              "      <td>0.239222</td>\n",
              "      <td>7.308982e-08</td>\n",
              "      <td>0.243074</td>\n",
              "      <td>0.193786</td>\n",
              "    </tr>\n",
              "    <tr>\n",
              "      <th>4</th>\n",
              "      <td>0.000713</td>\n",
              "      <td>435.000939</td>\n",
              "      <td>0.467699</td>\n",
              "      <td>418.204251</td>\n",
              "      <td>0.071743</td>\n",
              "      <td>111.584020</td>\n",
              "      <td>1237.816065</td>\n",
              "      <td>6.963757</td>\n",
              "      <td>10.728918</td>\n",
              "      <td>0.000235</td>\n",
              "      <td>5.109433</td>\n",
              "      <td>-0.268148</td>\n",
              "      <td>0.980983</td>\n",
              "      <td>0.599072</td>\n",
              "      <td>0.514390</td>\n",
              "      <td>3.666192e-08</td>\n",
              "      <td>-0.841739</td>\n",
              "      <td>-0.561151</td>\n",
              "    </tr>\n",
              "  </tbody>\n",
              "</table>\n",
              "</div>"
            ],
            "text/plain": [
              "   feature0     feature1  feature2  ...     feature15  feature16  feature17\n",
              "0  0.000472   825.146019  0.483915  ...  4.158225e-08   0.300045   0.188149\n",
              "1  0.000747   450.118996  0.520765  ...  5.035616e-08   0.235854   0.156365\n",
              "2  0.000375  1244.129580  0.599170  ...  6.285180e-08  -0.672770  -0.387071\n",
              "3  0.001382   388.768318  0.387355  ...  7.308982e-08   0.243074   0.193786\n",
              "4  0.000713   435.000939  0.467699  ...  3.666192e-08  -0.841739  -0.561151\n",
              "\n",
              "[5 rows x 18 columns]"
            ]
          },
          "metadata": {
            "tags": []
          },
          "execution_count": 18
        }
      ]
    },
    {
      "cell_type": "code",
      "metadata": {
        "id": "a-OqOY8B-YUn",
        "colab_type": "code",
        "colab": {
          "base_uri": "https://localhost:8080/",
          "height": 195
        },
        "outputId": "049e5a22-05a5-4a79-adc2-e3a74b78d3c5"
      },
      "source": [
        "test_label.head()"
      ],
      "execution_count": null,
      "outputs": [
        {
          "output_type": "execute_result",
          "data": {
            "text/html": [
              "<div>\n",
              "<style scoped>\n",
              "    .dataframe tbody tr th:only-of-type {\n",
              "        vertical-align: middle;\n",
              "    }\n",
              "\n",
              "    .dataframe tbody tr th {\n",
              "        vertical-align: top;\n",
              "    }\n",
              "\n",
              "    .dataframe thead th {\n",
              "        text-align: right;\n",
              "    }\n",
              "</style>\n",
              "<table border=\"1\" class=\"dataframe\">\n",
              "  <thead>\n",
              "    <tr style=\"text-align: right;\">\n",
              "      <th></th>\n",
              "      <th>0</th>\n",
              "      <th>1</th>\n",
              "      <th>2</th>\n",
              "      <th>3</th>\n",
              "      <th>4</th>\n",
              "      <th>5</th>\n",
              "    </tr>\n",
              "  </thead>\n",
              "  <tbody>\n",
              "    <tr>\n",
              "      <th>0</th>\n",
              "      <td>0</td>\n",
              "      <td>0</td>\n",
              "      <td>1</td>\n",
              "      <td>0</td>\n",
              "      <td>0</td>\n",
              "      <td>0</td>\n",
              "    </tr>\n",
              "    <tr>\n",
              "      <th>1</th>\n",
              "      <td>0</td>\n",
              "      <td>0</td>\n",
              "      <td>1</td>\n",
              "      <td>0</td>\n",
              "      <td>0</td>\n",
              "      <td>0</td>\n",
              "    </tr>\n",
              "    <tr>\n",
              "      <th>2</th>\n",
              "      <td>0</td>\n",
              "      <td>0</td>\n",
              "      <td>0</td>\n",
              "      <td>0</td>\n",
              "      <td>0</td>\n",
              "      <td>1</td>\n",
              "    </tr>\n",
              "    <tr>\n",
              "      <th>3</th>\n",
              "      <td>0</td>\n",
              "      <td>1</td>\n",
              "      <td>0</td>\n",
              "      <td>0</td>\n",
              "      <td>0</td>\n",
              "      <td>0</td>\n",
              "    </tr>\n",
              "    <tr>\n",
              "      <th>4</th>\n",
              "      <td>0</td>\n",
              "      <td>0</td>\n",
              "      <td>0</td>\n",
              "      <td>0</td>\n",
              "      <td>0</td>\n",
              "      <td>1</td>\n",
              "    </tr>\n",
              "  </tbody>\n",
              "</table>\n",
              "</div>"
            ],
            "text/plain": [
              "   0  1  2  3  4  5\n",
              "0  0  0  1  0  0  0\n",
              "1  0  0  1  0  0  0\n",
              "2  0  0  0  0  0  1\n",
              "3  0  1  0  0  0  0\n",
              "4  0  0  0  0  0  1"
            ]
          },
          "metadata": {
            "tags": []
          },
          "execution_count": 19
        }
      ]
    },
    {
      "cell_type": "code",
      "metadata": {
        "id": "RlUYm460-Yar",
        "colab_type": "code",
        "colab": {}
      },
      "source": [
        "sc=StandardScaler()\n",
        "#fit the training data\n",
        "fit=sc.fit(train_feature_deepstat_6)"
      ],
      "execution_count": null,
      "outputs": []
    },
    {
      "cell_type": "code",
      "metadata": {
        "id": "l2D5f74k-Ygs",
        "colab_type": "code",
        "colab": {}
      },
      "source": [
        "##transform the train and test data\n",
        "train_data_stn=fit.transform(train_feature_deepstat_6)\n",
        "test_data_stn=fit.transform(test_feature_deepsat_6)"
      ],
      "execution_count": null,
      "outputs": []
    },
    {
      "cell_type": "code",
      "metadata": {
        "id": "buqxKjV6-Yl3",
        "colab_type": "code",
        "colab": {}
      },
      "source": [
        "model=Sequential()\n",
        "\n",
        "#layer1\n",
        "model.add(Dense(units=50,input_shape=(train_data_stn.shape[1],),use_bias=True))\n",
        "#model.add(BatchNormalization())\n",
        "model.add(Activation(\"relu\"))\n",
        "model.add(Dropout(0.2))\n",
        "\n",
        "#layer2\n",
        "model.add(Dense(units=50, use_bias=True))\n",
        "#model.add(BatchNormalization())\n",
        "model.add(Activation(\"relu\"))\n",
        "model.add(Dropout(0.2))\n",
        "\n",
        "#layer3\n",
        "model.add(Dense(units=6, activation=\"softmax\"))\n",
        "\n",
        "\n",
        "##ADD early stopping\n",
        "es = EarlyStopping(monitor='val_loss', mode='min', verbose=1, patience=5)\n",
        "# mc = ModelCheckpoint('best_model.h5', monitor='val_accuracy', mode='max', verbose=1, save_best_only=True)\n",
        "# tensorboard = TensorBoard(log_dir='logs/{}'.format(time()))\n",
        "#tensorboard=TensorBoard(log_dir='logs/{}'.format(time()))\n",
        "\n",
        "#compile the model\n",
        "model.compile(optimizer=\"adam\",loss=\"categorical_crossentropy\",metrics=[\"accuracy\"])"
      ],
      "execution_count": null,
      "outputs": []
    },
    {
      "cell_type": "code",
      "metadata": {
        "id": "oT4bDRKtUlIM",
        "colab_type": "code",
        "colab": {
          "base_uri": "https://localhost:8080/",
          "height": 34
        },
        "outputId": "a0574f7f-1479-4f84-e739-a74569e364f6"
      },
      "source": [
        "tf.test.gpu_device_name()"
      ],
      "execution_count": null,
      "outputs": [
        {
          "output_type": "execute_result",
          "data": {
            "text/plain": [
              "'/device:GPU:0'"
            ]
          },
          "metadata": {
            "tags": []
          },
          "execution_count": 19
        }
      ]
    },
    {
      "cell_type": "code",
      "metadata": {
        "id": "kBMavD87-YrX",
        "colab_type": "code",
        "colab": {
          "base_uri": "https://localhost:8080/",
          "height": 1000
        },
        "outputId": "64dba647-772d-4b78-a376-0eb7da2e82d7"
      },
      "source": [
        "#model.fit(train_data_stn, train_label.values, validation_split=0.15, batch_size=512, epochs=500,callbacks=[es, mc,tensorboard]) \n",
        "model.fit(train_data_stn, train_label.values, validation_split=0.15, batch_size=512, epochs=70,callbacks=[es]) "
      ],
      "execution_count": null,
      "outputs": [
        {
          "output_type": "stream",
          "text": [
            "Train on 275400 samples, validate on 48600 samples\n",
            "Epoch 1/70\n",
            "275400/275400 [==============================] - 2s 8us/step - loss: 0.2662 - accuracy: 0.9166 - val_loss: 0.0858 - val_accuracy: 0.9716\n",
            "Epoch 2/70\n",
            "275400/275400 [==============================] - 2s 6us/step - loss: 0.0966 - accuracy: 0.9675 - val_loss: 0.0684 - val_accuracy: 0.9760\n",
            "Epoch 3/70\n",
            "275400/275400 [==============================] - 2s 7us/step - loss: 0.0810 - accuracy: 0.9725 - val_loss: 0.0610 - val_accuracy: 0.9784\n",
            "Epoch 4/70\n",
            "275400/275400 [==============================] - 2s 7us/step - loss: 0.0726 - accuracy: 0.9755 - val_loss: 0.0547 - val_accuracy: 0.9808\n",
            "Epoch 5/70\n",
            "275400/275400 [==============================] - 2s 6us/step - loss: 0.0663 - accuracy: 0.9776 - val_loss: 0.0509 - val_accuracy: 0.9819\n",
            "Epoch 6/70\n",
            "275400/275400 [==============================] - 2s 7us/step - loss: 0.0620 - accuracy: 0.9790 - val_loss: 0.0472 - val_accuracy: 0.9836\n",
            "Epoch 7/70\n",
            "275400/275400 [==============================] - 2s 7us/step - loss: 0.0586 - accuracy: 0.9802 - val_loss: 0.0459 - val_accuracy: 0.9842\n",
            "Epoch 8/70\n",
            "275400/275400 [==============================] - 2s 6us/step - loss: 0.0549 - accuracy: 0.9814 - val_loss: 0.0435 - val_accuracy: 0.9853\n",
            "Epoch 9/70\n",
            "275400/275400 [==============================] - 2s 7us/step - loss: 0.0526 - accuracy: 0.9823 - val_loss: 0.0408 - val_accuracy: 0.9861\n",
            "Epoch 10/70\n",
            "275400/275400 [==============================] - 2s 7us/step - loss: 0.0504 - accuracy: 0.9829 - val_loss: 0.0398 - val_accuracy: 0.9866\n",
            "Epoch 11/70\n",
            "275400/275400 [==============================] - 2s 7us/step - loss: 0.0487 - accuracy: 0.9835 - val_loss: 0.0384 - val_accuracy: 0.9871\n",
            "Epoch 12/70\n",
            "275400/275400 [==============================] - 2s 6us/step - loss: 0.0475 - accuracy: 0.9841 - val_loss: 0.0374 - val_accuracy: 0.9874\n",
            "Epoch 13/70\n",
            "275400/275400 [==============================] - 2s 7us/step - loss: 0.0459 - accuracy: 0.9846 - val_loss: 0.0354 - val_accuracy: 0.9880\n",
            "Epoch 14/70\n",
            "275400/275400 [==============================] - 2s 7us/step - loss: 0.0452 - accuracy: 0.9848 - val_loss: 0.0351 - val_accuracy: 0.9884\n",
            "Epoch 15/70\n",
            "275400/275400 [==============================] - 2s 7us/step - loss: 0.0438 - accuracy: 0.9853 - val_loss: 0.0347 - val_accuracy: 0.9881\n",
            "Epoch 16/70\n",
            "275400/275400 [==============================] - 2s 6us/step - loss: 0.0424 - accuracy: 0.9858 - val_loss: 0.0329 - val_accuracy: 0.9887\n",
            "Epoch 17/70\n",
            "275400/275400 [==============================] - 2s 6us/step - loss: 0.0420 - accuracy: 0.9860 - val_loss: 0.0325 - val_accuracy: 0.9885\n",
            "Epoch 18/70\n",
            "275400/275400 [==============================] - 2s 7us/step - loss: 0.0408 - accuracy: 0.9863 - val_loss: 0.0319 - val_accuracy: 0.9888\n",
            "Epoch 19/70\n",
            "275400/275400 [==============================] - 2s 7us/step - loss: 0.0395 - accuracy: 0.9865 - val_loss: 0.0310 - val_accuracy: 0.9893\n",
            "Epoch 20/70\n",
            "275400/275400 [==============================] - 2s 7us/step - loss: 0.0386 - accuracy: 0.9870 - val_loss: 0.0296 - val_accuracy: 0.9898\n",
            "Epoch 21/70\n",
            "275400/275400 [==============================] - 2s 6us/step - loss: 0.0387 - accuracy: 0.9870 - val_loss: 0.0292 - val_accuracy: 0.9899\n",
            "Epoch 22/70\n",
            "275400/275400 [==============================] - 2s 6us/step - loss: 0.0378 - accuracy: 0.9873 - val_loss: 0.0286 - val_accuracy: 0.9902\n",
            "Epoch 23/70\n",
            "275400/275400 [==============================] - 2s 7us/step - loss: 0.0372 - accuracy: 0.9877 - val_loss: 0.0285 - val_accuracy: 0.9907\n",
            "Epoch 24/70\n",
            "275400/275400 [==============================] - 2s 6us/step - loss: 0.0365 - accuracy: 0.9877 - val_loss: 0.0282 - val_accuracy: 0.9904\n",
            "Epoch 25/70\n",
            "275400/275400 [==============================] - 2s 6us/step - loss: 0.0366 - accuracy: 0.9878 - val_loss: 0.0273 - val_accuracy: 0.9908\n",
            "Epoch 26/70\n",
            "275400/275400 [==============================] - 2s 6us/step - loss: 0.0360 - accuracy: 0.9882 - val_loss: 0.0280 - val_accuracy: 0.9901\n",
            "Epoch 27/70\n",
            "275400/275400 [==============================] - 2s 7us/step - loss: 0.0362 - accuracy: 0.9880 - val_loss: 0.0275 - val_accuracy: 0.9909\n",
            "Epoch 28/70\n",
            "275400/275400 [==============================] - 2s 7us/step - loss: 0.0354 - accuracy: 0.9883 - val_loss: 0.0263 - val_accuracy: 0.9911\n",
            "Epoch 29/70\n",
            "275400/275400 [==============================] - 2s 6us/step - loss: 0.0345 - accuracy: 0.9885 - val_loss: 0.0261 - val_accuracy: 0.9913\n",
            "Epoch 30/70\n",
            "275400/275400 [==============================] - 2s 7us/step - loss: 0.0349 - accuracy: 0.9884 - val_loss: 0.0258 - val_accuracy: 0.9912\n",
            "Epoch 31/70\n",
            "275400/275400 [==============================] - 2s 7us/step - loss: 0.0342 - accuracy: 0.9887 - val_loss: 0.0258 - val_accuracy: 0.9914\n",
            "Epoch 32/70\n",
            "275400/275400 [==============================] - 2s 7us/step - loss: 0.0338 - accuracy: 0.9888 - val_loss: 0.0255 - val_accuracy: 0.9915\n",
            "Epoch 33/70\n",
            "275400/275400 [==============================] - 2s 7us/step - loss: 0.0333 - accuracy: 0.9889 - val_loss: 0.0257 - val_accuracy: 0.9913\n",
            "Epoch 34/70\n",
            "275400/275400 [==============================] - 2s 7us/step - loss: 0.0332 - accuracy: 0.9889 - val_loss: 0.0246 - val_accuracy: 0.9919\n",
            "Epoch 35/70\n",
            "275400/275400 [==============================] - 2s 6us/step - loss: 0.0334 - accuracy: 0.9890 - val_loss: 0.0244 - val_accuracy: 0.9920\n",
            "Epoch 36/70\n",
            "275400/275400 [==============================] - 2s 6us/step - loss: 0.0329 - accuracy: 0.9891 - val_loss: 0.0247 - val_accuracy: 0.9915\n",
            "Epoch 37/70\n",
            "275400/275400 [==============================] - 2s 6us/step - loss: 0.0328 - accuracy: 0.9890 - val_loss: 0.0242 - val_accuracy: 0.9916\n",
            "Epoch 38/70\n",
            "275400/275400 [==============================] - 2s 7us/step - loss: 0.0323 - accuracy: 0.9892 - val_loss: 0.0241 - val_accuracy: 0.9920\n",
            "Epoch 39/70\n",
            "275400/275400 [==============================] - 2s 7us/step - loss: 0.0317 - accuracy: 0.9894 - val_loss: 0.0240 - val_accuracy: 0.9921\n",
            "Epoch 40/70\n",
            "275400/275400 [==============================] - 2s 6us/step - loss: 0.0324 - accuracy: 0.9892 - val_loss: 0.0246 - val_accuracy: 0.9917\n",
            "Epoch 41/70\n",
            "275400/275400 [==============================] - 2s 6us/step - loss: 0.0318 - accuracy: 0.9895 - val_loss: 0.0239 - val_accuracy: 0.9918\n",
            "Epoch 42/70\n",
            "275400/275400 [==============================] - 2s 6us/step - loss: 0.0319 - accuracy: 0.9897 - val_loss: 0.0238 - val_accuracy: 0.9920\n",
            "Epoch 43/70\n",
            "275400/275400 [==============================] - 2s 6us/step - loss: 0.0315 - accuracy: 0.9897 - val_loss: 0.0230 - val_accuracy: 0.9922\n",
            "Epoch 44/70\n",
            "275400/275400 [==============================] - 2s 6us/step - loss: 0.0311 - accuracy: 0.9895 - val_loss: 0.0228 - val_accuracy: 0.9923\n",
            "Epoch 45/70\n",
            "275400/275400 [==============================] - 2s 6us/step - loss: 0.0306 - accuracy: 0.9897 - val_loss: 0.0225 - val_accuracy: 0.9923\n",
            "Epoch 46/70\n",
            "275400/275400 [==============================] - 2s 7us/step - loss: 0.0310 - accuracy: 0.9899 - val_loss: 0.0229 - val_accuracy: 0.9923\n",
            "Epoch 47/70\n",
            "275400/275400 [==============================] - 2s 7us/step - loss: 0.0306 - accuracy: 0.9899 - val_loss: 0.0223 - val_accuracy: 0.9927\n",
            "Epoch 48/70\n",
            "275400/275400 [==============================] - 2s 7us/step - loss: 0.0305 - accuracy: 0.9899 - val_loss: 0.0236 - val_accuracy: 0.9918\n",
            "Epoch 49/70\n",
            "275400/275400 [==============================] - 2s 6us/step - loss: 0.0301 - accuracy: 0.9902 - val_loss: 0.0229 - val_accuracy: 0.9922\n",
            "Epoch 50/70\n",
            "275400/275400 [==============================] - 2s 7us/step - loss: 0.0306 - accuracy: 0.9898 - val_loss: 0.0223 - val_accuracy: 0.9927\n",
            "Epoch 51/70\n",
            "275400/275400 [==============================] - 2s 6us/step - loss: 0.0302 - accuracy: 0.9901 - val_loss: 0.0221 - val_accuracy: 0.9924\n",
            "Epoch 52/70\n",
            "275400/275400 [==============================] - 2s 6us/step - loss: 0.0298 - accuracy: 0.9900 - val_loss: 0.0216 - val_accuracy: 0.9929\n",
            "Epoch 53/70\n",
            "275400/275400 [==============================] - 2s 6us/step - loss: 0.0297 - accuracy: 0.9901 - val_loss: 0.0216 - val_accuracy: 0.9929\n",
            "Epoch 54/70\n",
            "275400/275400 [==============================] - 2s 6us/step - loss: 0.0297 - accuracy: 0.9901 - val_loss: 0.0213 - val_accuracy: 0.9930\n",
            "Epoch 55/70\n",
            "275400/275400 [==============================] - 2s 6us/step - loss: 0.0304 - accuracy: 0.9903 - val_loss: 0.0219 - val_accuracy: 0.9929\n",
            "Epoch 56/70\n",
            "275400/275400 [==============================] - 2s 6us/step - loss: 0.0305 - accuracy: 0.9900 - val_loss: 0.0215 - val_accuracy: 0.9931\n",
            "Epoch 57/70\n",
            "275400/275400 [==============================] - 2s 7us/step - loss: 0.0293 - accuracy: 0.9904 - val_loss: 0.0213 - val_accuracy: 0.9928\n",
            "Epoch 58/70\n",
            "275400/275400 [==============================] - 2s 6us/step - loss: 0.0291 - accuracy: 0.9903 - val_loss: 0.0209 - val_accuracy: 0.9929\n",
            "Epoch 59/70\n",
            "275400/275400 [==============================] - 2s 6us/step - loss: 0.0294 - accuracy: 0.9903 - val_loss: 0.0211 - val_accuracy: 0.9929\n",
            "Epoch 60/70\n",
            "275400/275400 [==============================] - 2s 7us/step - loss: 0.0290 - accuracy: 0.9906 - val_loss: 0.0210 - val_accuracy: 0.9929\n",
            "Epoch 61/70\n",
            "275400/275400 [==============================] - 2s 6us/step - loss: 0.0290 - accuracy: 0.9905 - val_loss: 0.0200 - val_accuracy: 0.9935\n",
            "Epoch 62/70\n",
            "275400/275400 [==============================] - 2s 6us/step - loss: 0.0292 - accuracy: 0.9902 - val_loss: 0.0204 - val_accuracy: 0.9930\n",
            "Epoch 63/70\n",
            "275400/275400 [==============================] - 2s 6us/step - loss: 0.0288 - accuracy: 0.9905 - val_loss: 0.0205 - val_accuracy: 0.9934\n",
            "Epoch 64/70\n",
            "275400/275400 [==============================] - 2s 6us/step - loss: 0.0283 - accuracy: 0.9906 - val_loss: 0.0205 - val_accuracy: 0.9933\n",
            "Epoch 65/70\n",
            "275400/275400 [==============================] - 2s 6us/step - loss: 0.0283 - accuracy: 0.9907 - val_loss: 0.0205 - val_accuracy: 0.9932\n",
            "Epoch 66/70\n",
            "275400/275400 [==============================] - 2s 6us/step - loss: 0.0287 - accuracy: 0.9905 - val_loss: 0.0199 - val_accuracy: 0.9933\n",
            "Epoch 67/70\n",
            "275400/275400 [==============================] - 2s 6us/step - loss: 0.0285 - accuracy: 0.9906 - val_loss: 0.0207 - val_accuracy: 0.9930\n",
            "Epoch 68/70\n",
            "275400/275400 [==============================] - 2s 6us/step - loss: 0.0282 - accuracy: 0.9908 - val_loss: 0.0201 - val_accuracy: 0.9934\n",
            "Epoch 69/70\n",
            "275400/275400 [==============================] - 2s 6us/step - loss: 0.0287 - accuracy: 0.9907 - val_loss: 0.0204 - val_accuracy: 0.9933\n",
            "Epoch 70/70\n",
            "275400/275400 [==============================] - 2s 6us/step - loss: 0.0280 - accuracy: 0.9909 - val_loss: 0.0201 - val_accuracy: 0.9932\n"
          ],
          "name": "stdout"
        },
        {
          "output_type": "execute_result",
          "data": {
            "text/plain": [
              "<keras.callbacks.callbacks.History at 0x7fa2f2648da0>"
            ]
          },
          "metadata": {
            "tags": []
          },
          "execution_count": 20
        }
      ]
    },
    {
      "cell_type": "code",
      "metadata": {
        "id": "Wnt91wjb-Yv7",
        "colab_type": "code",
        "colab": {
          "base_uri": "https://localhost:8080/",
          "height": 50
        },
        "outputId": "53cb33f4-2dde-4a53-f672-6e95b4166312"
      },
      "source": [
        "Accuracy_on_test_data=model.evaluate(test_data_stn, test_label.values)[1]\n",
        "print(\"Accuracy on test data: \",Accuracy_on_test_data)"
      ],
      "execution_count": null,
      "outputs": [
        {
          "output_type": "stream",
          "text": [
            "81000/81000 [==============================] - 4s 44us/step\n",
            "Accuracy on test data:  0.9945926070213318\n"
          ],
          "name": "stdout"
        }
      ]
    },
    {
      "cell_type": "code",
      "metadata": {
        "id": "BlEmNo92WhNV",
        "colab_type": "code",
        "colab": {
          "base_uri": "https://localhost:8080/",
          "height": 34
        },
        "outputId": "154c0f28-54a3-4f34-bc05-ebc0654ce705"
      },
      "source": [
        "# serialize model to JSON\n",
        "model_json = model.to_json()\n",
        "with open(\"trained_model.json\", \"w\") as json_file:\n",
        "    json_file.write(model_json)\n",
        "# serialize weights to HDF5\n",
        "model.save_weights(\"model.h5\")\n",
        "print(\"Saved model to disk\")"
      ],
      "execution_count": null,
      "outputs": [
        {
          "output_type": "stream",
          "text": [
            "Saved model to disk\n"
          ],
          "name": "stdout"
        }
      ]
    },
    {
      "cell_type": "code",
      "metadata": {
        "id": "emZLuL-zV2Rf",
        "colab_type": "code",
        "colab": {
          "base_uri": "https://localhost:8080/",
          "height": 34
        },
        "outputId": "094da4bd-352c-4f96-cb04-1fb8e4bffb65"
      },
      "source": [
        "import mlxtend                                                          \n",
        "print(mlxtend.__version__)   "
      ],
      "execution_count": null,
      "outputs": [
        {
          "output_type": "stream",
          "text": [
            "0.17.2\n"
          ],
          "name": "stdout"
        }
      ]
    },
    {
      "cell_type": "code",
      "metadata": {
        "id": "A68IN-nZV7nK",
        "colab_type": "code",
        "colab": {
          "base_uri": "https://localhost:8080/",
          "height": 256
        },
        "outputId": "ca6eb193-87b8-478e-8545-ea74d43b0161"
      },
      "source": [
        "!pip install mlxtend --upgrade --no-deps"
      ],
      "execution_count": null,
      "outputs": [
        {
          "output_type": "stream",
          "text": [
            "Collecting mlxtend\n",
            "\u001b[?25l  Downloading https://files.pythonhosted.org/packages/64/e2/1610a86284029abcad0ac9bc86cb19f9787fe6448ede467188b2a5121bb4/mlxtend-0.17.2-py2.py3-none-any.whl (1.3MB)\n",
            "\r\u001b[K     |▎                               | 10kB 27.9MB/s eta 0:00:01\r\u001b[K     |▌                               | 20kB 1.7MB/s eta 0:00:01\r\u001b[K     |▊                               | 30kB 2.3MB/s eta 0:00:01\r\u001b[K     |█                               | 40kB 2.5MB/s eta 0:00:01\r\u001b[K     |█▎                              | 51kB 2.0MB/s eta 0:00:01\r\u001b[K     |█▌                              | 61kB 2.3MB/s eta 0:00:01\r\u001b[K     |█▊                              | 71kB 2.5MB/s eta 0:00:01\r\u001b[K     |██                              | 81kB 2.7MB/s eta 0:00:01\r\u001b[K     |██▏                             | 92kB 2.9MB/s eta 0:00:01\r\u001b[K     |██▌                             | 102kB 2.8MB/s eta 0:00:01\r\u001b[K     |██▊                             | 112kB 2.8MB/s eta 0:00:01\r\u001b[K     |███                             | 122kB 2.8MB/s eta 0:00:01\r\u001b[K     |███▏                            | 133kB 2.8MB/s eta 0:00:01\r\u001b[K     |███▍                            | 143kB 2.8MB/s eta 0:00:01\r\u001b[K     |███▊                            | 153kB 2.8MB/s eta 0:00:01\r\u001b[K     |████                            | 163kB 2.8MB/s eta 0:00:01\r\u001b[K     |████▏                           | 174kB 2.8MB/s eta 0:00:01\r\u001b[K     |████▍                           | 184kB 2.8MB/s eta 0:00:01\r\u001b[K     |████▋                           | 194kB 2.8MB/s eta 0:00:01\r\u001b[K     |█████                           | 204kB 2.8MB/s eta 0:00:01\r\u001b[K     |█████▏                          | 215kB 2.8MB/s eta 0:00:01\r\u001b[K     |█████▍                          | 225kB 2.8MB/s eta 0:00:01\r\u001b[K     |█████▋                          | 235kB 2.8MB/s eta 0:00:01\r\u001b[K     |█████▉                          | 245kB 2.8MB/s eta 0:00:01\r\u001b[K     |██████▏                         | 256kB 2.8MB/s eta 0:00:01\r\u001b[K     |██████▍                         | 266kB 2.8MB/s eta 0:00:01\r\u001b[K     |██████▋                         | 276kB 2.8MB/s eta 0:00:01\r\u001b[K     |██████▉                         | 286kB 2.8MB/s eta 0:00:01\r\u001b[K     |███████                         | 296kB 2.8MB/s eta 0:00:01\r\u001b[K     |███████▍                        | 307kB 2.8MB/s eta 0:00:01\r\u001b[K     |███████▋                        | 317kB 2.8MB/s eta 0:00:01\r\u001b[K     |███████▉                        | 327kB 2.8MB/s eta 0:00:01\r\u001b[K     |████████                        | 337kB 2.8MB/s eta 0:00:01\r\u001b[K     |████████▎                       | 348kB 2.8MB/s eta 0:00:01\r\u001b[K     |████████▋                       | 358kB 2.8MB/s eta 0:00:01\r\u001b[K     |████████▉                       | 368kB 2.8MB/s eta 0:00:01\r\u001b[K     |█████████                       | 378kB 2.8MB/s eta 0:00:01\r\u001b[K     |█████████▎                      | 389kB 2.8MB/s eta 0:00:01\r\u001b[K     |█████████▌                      | 399kB 2.8MB/s eta 0:00:01\r\u001b[K     |█████████▉                      | 409kB 2.8MB/s eta 0:00:01\r\u001b[K     |██████████                      | 419kB 2.8MB/s eta 0:00:01\r\u001b[K     |██████████▎                     | 430kB 2.8MB/s eta 0:00:01\r\u001b[K     |██████████▌                     | 440kB 2.8MB/s eta 0:00:01\r\u001b[K     |██████████▊                     | 450kB 2.8MB/s eta 0:00:01\r\u001b[K     |███████████                     | 460kB 2.8MB/s eta 0:00:01\r\u001b[K     |███████████▎                    | 471kB 2.8MB/s eta 0:00:01\r\u001b[K     |███████████▌                    | 481kB 2.8MB/s eta 0:00:01\r\u001b[K     |███████████▊                    | 491kB 2.8MB/s eta 0:00:01\r\u001b[K     |████████████                    | 501kB 2.8MB/s eta 0:00:01\r\u001b[K     |████████████▎                   | 512kB 2.8MB/s eta 0:00:01\r\u001b[K     |████████████▌                   | 522kB 2.8MB/s eta 0:00:01\r\u001b[K     |████████████▊                   | 532kB 2.8MB/s eta 0:00:01\r\u001b[K     |█████████████                   | 542kB 2.8MB/s eta 0:00:01\r\u001b[K     |█████████████▏                  | 552kB 2.8MB/s eta 0:00:01\r\u001b[K     |█████████████▌                  | 563kB 2.8MB/s eta 0:00:01\r\u001b[K     |█████████████▊                  | 573kB 2.8MB/s eta 0:00:01\r\u001b[K     |██████████████                  | 583kB 2.8MB/s eta 0:00:01\r\u001b[K     |██████████████▏                 | 593kB 2.8MB/s eta 0:00:01\r\u001b[K     |██████████████▍                 | 604kB 2.8MB/s eta 0:00:01\r\u001b[K     |██████████████▊                 | 614kB 2.8MB/s eta 0:00:01\r\u001b[K     |███████████████                 | 624kB 2.8MB/s eta 0:00:01\r\u001b[K     |███████████████▏                | 634kB 2.8MB/s eta 0:00:01\r\u001b[K     |███████████████▍                | 645kB 2.8MB/s eta 0:00:01\r\u001b[K     |███████████████▋                | 655kB 2.8MB/s eta 0:00:01\r\u001b[K     |████████████████                | 665kB 2.8MB/s eta 0:00:01\r\u001b[K     |████████████████▏               | 675kB 2.8MB/s eta 0:00:01\r\u001b[K     |████████████████▍               | 686kB 2.8MB/s eta 0:00:01\r\u001b[K     |████████████████▋               | 696kB 2.8MB/s eta 0:00:01\r\u001b[K     |████████████████▉               | 706kB 2.8MB/s eta 0:00:01\r\u001b[K     |█████████████████▏              | 716kB 2.8MB/s eta 0:00:01\r\u001b[K     |█████████████████▍              | 727kB 2.8MB/s eta 0:00:01\r\u001b[K     |█████████████████▋              | 737kB 2.8MB/s eta 0:00:01\r\u001b[K     |█████████████████▉              | 747kB 2.8MB/s eta 0:00:01\r\u001b[K     |██████████████████▏             | 757kB 2.8MB/s eta 0:00:01\r\u001b[K     |██████████████████▍             | 768kB 2.8MB/s eta 0:00:01\r\u001b[K     |██████████████████▋             | 778kB 2.8MB/s eta 0:00:01\r\u001b[K     |██████████████████▉             | 788kB 2.8MB/s eta 0:00:01\r\u001b[K     |███████████████████             | 798kB 2.8MB/s eta 0:00:01\r\u001b[K     |███████████████████▍            | 808kB 2.8MB/s eta 0:00:01\r\u001b[K     |███████████████████▋            | 819kB 2.8MB/s eta 0:00:01\r\u001b[K     |███████████████████▉            | 829kB 2.8MB/s eta 0:00:01\r\u001b[K     |████████████████████            | 839kB 2.8MB/s eta 0:00:01\r\u001b[K     |████████████████████▎           | 849kB 2.8MB/s eta 0:00:01\r\u001b[K     |████████████████████▋           | 860kB 2.8MB/s eta 0:00:01\r\u001b[K     |████████████████████▉           | 870kB 2.8MB/s eta 0:00:01\r\u001b[K     |█████████████████████           | 880kB 2.8MB/s eta 0:00:01\r\u001b[K     |█████████████████████▎          | 890kB 2.8MB/s eta 0:00:01\r\u001b[K     |█████████████████████▌          | 901kB 2.8MB/s eta 0:00:01\r\u001b[K     |█████████████████████▉          | 911kB 2.8MB/s eta 0:00:01\r\u001b[K     |██████████████████████          | 921kB 2.8MB/s eta 0:00:01\r\u001b[K     |██████████████████████▎         | 931kB 2.8MB/s eta 0:00:01\r\u001b[K     |██████████████████████▌         | 942kB 2.8MB/s eta 0:00:01\r\u001b[K     |██████████████████████▊         | 952kB 2.8MB/s eta 0:00:01\r\u001b[K     |███████████████████████         | 962kB 2.8MB/s eta 0:00:01\r\u001b[K     |███████████████████████▎        | 972kB 2.8MB/s eta 0:00:01\r\u001b[K     |███████████████████████▌        | 983kB 2.8MB/s eta 0:00:01\r\u001b[K     |███████████████████████▊        | 993kB 2.8MB/s eta 0:00:01\r\u001b[K     |████████████████████████        | 1.0MB 2.8MB/s eta 0:00:01\r\u001b[K     |████████████████████████▎       | 1.0MB 2.8MB/s eta 0:00:01\r\u001b[K     |████████████████████████▌       | 1.0MB 2.8MB/s eta 0:00:01\r\u001b[K     |████████████████████████▊       | 1.0MB 2.8MB/s eta 0:00:01\r\u001b[K     |█████████████████████████       | 1.0MB 2.8MB/s eta 0:00:01\r\u001b[K     |█████████████████████████▏      | 1.1MB 2.8MB/s eta 0:00:01\r\u001b[K     |█████████████████████████▌      | 1.1MB 2.8MB/s eta 0:00:01\r\u001b[K     |█████████████████████████▊      | 1.1MB 2.8MB/s eta 0:00:01\r\u001b[K     |██████████████████████████      | 1.1MB 2.8MB/s eta 0:00:01\r\u001b[K     |██████████████████████████▏     | 1.1MB 2.8MB/s eta 0:00:01\r\u001b[K     |██████████████████████████▍     | 1.1MB 2.8MB/s eta 0:00:01\r\u001b[K     |██████████████████████████▊     | 1.1MB 2.8MB/s eta 0:00:01\r\u001b[K     |███████████████████████████     | 1.1MB 2.8MB/s eta 0:00:01\r\u001b[K     |███████████████████████████▏    | 1.1MB 2.8MB/s eta 0:00:01\r\u001b[K     |███████████████████████████▍    | 1.1MB 2.8MB/s eta 0:00:01\r\u001b[K     |███████████████████████████▋    | 1.2MB 2.8MB/s eta 0:00:01\r\u001b[K     |████████████████████████████    | 1.2MB 2.8MB/s eta 0:00:01\r\u001b[K     |████████████████████████████▏   | 1.2MB 2.8MB/s eta 0:00:01\r\u001b[K     |████████████████████████████▍   | 1.2MB 2.8MB/s eta 0:00:01\r\u001b[K     |████████████████████████████▋   | 1.2MB 2.8MB/s eta 0:00:01\r\u001b[K     |████████████████████████████▉   | 1.2MB 2.8MB/s eta 0:00:01\r\u001b[K     |█████████████████████████████▏  | 1.2MB 2.8MB/s eta 0:00:01\r\u001b[K     |█████████████████████████████▍  | 1.2MB 2.8MB/s eta 0:00:01\r\u001b[K     |█████████████████████████████▋  | 1.2MB 2.8MB/s eta 0:00:01\r\u001b[K     |█████████████████████████████▉  | 1.2MB 2.8MB/s eta 0:00:01\r\u001b[K     |██████████████████████████████  | 1.3MB 2.8MB/s eta 0:00:01\r\u001b[K     |██████████████████████████████▍ | 1.3MB 2.8MB/s eta 0:00:01\r\u001b[K     |██████████████████████████████▋ | 1.3MB 2.8MB/s eta 0:00:01\r\u001b[K     |██████████████████████████████▉ | 1.3MB 2.8MB/s eta 0:00:01\r\u001b[K     |███████████████████████████████ | 1.3MB 2.8MB/s eta 0:00:01\r\u001b[K     |███████████████████████████████▎| 1.3MB 2.8MB/s eta 0:00:01\r\u001b[K     |███████████████████████████████▋| 1.3MB 2.8MB/s eta 0:00:01\r\u001b[K     |███████████████████████████████▉| 1.3MB 2.8MB/s eta 0:00:01\r\u001b[K     |████████████████████████████████| 1.3MB 2.8MB/s \n",
            "\u001b[?25hInstalling collected packages: mlxtend\n",
            "  Found existing installation: mlxtend 0.14.0\n",
            "    Uninstalling mlxtend-0.14.0:\n",
            "      Successfully uninstalled mlxtend-0.14.0\n",
            "Successfully installed mlxtend-0.17.2\n"
          ],
          "name": "stdout"
        },
        {
          "output_type": "display_data",
          "data": {
            "application/vnd.colab-display-data+json": {
              "pip_warning": {
                "packages": [
                  "mlxtend"
                ]
              }
            }
          },
          "metadata": {
            "tags": []
          }
        }
      ]
    },
    {
      "cell_type": "code",
      "metadata": {
        "id": "1LrD7nsvT8PL",
        "colab_type": "code",
        "colab": {
          "base_uri": "https://localhost:8080/",
          "height": 428
        },
        "outputId": "ddf13840-7a81-46da-a2aa-a49bb22c0488"
      },
      "source": [
        "# [1,0,0,0,0,0]=building\n",
        "# [0,1,0,0,0]=barren_land\n",
        "# [0,0,1,0,0,0]=tree\n",
        "# [0,0,0,1,0,0]=grassland\n",
        "# [0,0,0,0,1,0]=road\n",
        "# [0,0,0,0,0,1]=water\n",
        "\n",
        "\n",
        "##Building confusion matrix\n",
        "\n",
        "y_pred=model.predict_classes(test_data_stn)\n",
        "y_true=np.argmax(test_label.values, axis=1)\n",
        "cm=confusion_matrix(y_target=y_true, y_predicted=y_pred)\n",
        "\n",
        "plot_confusion_matrix(cm,class_names=[\"Building\",\"Barren_land\",\"Tree\",\"Grassland\",\"Road\",\"Water\"],figsize=(6,6) )\n",
        "plt.show()"
      ],
      "execution_count": null,
      "outputs": [
        {
          "output_type": "display_data",
          "data": {
            "image/png": "[encoded data removed]",
            "text/plain": [
              "<Figure size 432x432 with 1 Axes>"
            ]
          },
          "metadata": {
            "tags": [],
            "needs_background": "light"
          }
        }
      ]
    },
    {
      "cell_type": "code",
      "metadata": {
        "id": "oSSG2gAXT8aD",
        "colab_type": "code",
        "colab": {}
      },
      "source": [
        "def precision(label, confusion_matrix):\n",
        "    col = confusion_matrix[:, label]\n",
        "    return confusion_matrix[label, label] / col.sum()\n",
        "    \n",
        "def recall(label, confusion_matrix):\n",
        "    row = confusion_matrix[label, :]\n",
        "    return confusion_matrix[label, label] / row.sum()\n",
        "\n",
        "def precision_macro_average(confusion_matrix):\n",
        "    rows, columns = confusion_matrix.shape\n",
        "    sum_of_precisions = 0\n",
        "    for label in range(rows):\n",
        "        sum_of_precisions += precision(label, confusion_matrix)\n",
        "    return sum_of_precisions / rows\n",
        "\n",
        "def recall_macro_average(confusion_matrix):\n",
        "    rows, columns = confusion_matrix.shape\n",
        "    sum_of_recalls = 0\n",
        "    for label in range(columns):\n",
        "        sum_of_recalls += recall(label, confusion_matrix)"
      ],
      "execution_count": null,
      "outputs": []
    },
    {
      "cell_type": "code",
      "metadata": {
        "id": "Ct1CwZ6CT8if",
        "colab_type": "code",
        "colab": {
          "base_uri": "https://localhost:8080/",
          "height": 374
        },
        "outputId": "afcf4c25-eea2-4064-96e5-3aeac2b31a97"
      },
      "source": [
        "dic={}\n",
        "precision_=[]\n",
        "recall_=[]\n",
        "precision_macro_average_=[]\n",
        "for label in range(6):\n",
        "    precision_.append(precision(label, cm))\n",
        "    recall_.append(recall(label, cm))\n",
        "    \n",
        "dic[\"Precision\"]= precision_\n",
        "dic[\"Recall\"]= recall_\n",
        "\n",
        "plt.figure(figsize=(6,6))\n",
        "ax=sns.heatmap(pd.DataFrame(dic, index=[\"building\",\"barren_land\",\"tree\",\"grassland\",\"road\",\"water\"]),annot=True,cbar=False)\n",
        "plt.yticks(rotation=0)\n",
        "ax.xaxis.tick_top() # x axis on top\n",
        "\n",
        "plt.show()"
      ],
      "execution_count": null,
      "outputs": [
        {
          "output_type": "display_data",
          "data": {
            "image/png": "[encoded data removed]",
            "text/plain": [
              "<Figure size 432x432 with 1 Axes>"
            ]
          },
          "metadata": {
            "tags": [],
            "needs_background": "light"
          }
        }
      ]
    },
    {
      "cell_type": "code",
      "metadata": {
        "id": "LonWbZEUT8pP",
        "colab_type": "code",
        "colab": {}
      },
      "source": [
        ""
      ],
      "execution_count": null,
      "outputs": []
    },
    {
      "cell_type": "code",
      "metadata": {
        "id": "zHX5j6eGT87S",
        "colab_type": "code",
        "colab": {}
      },
      "source": [
        ""
      ],
      "execution_count": null,
      "outputs": []
    },
    {
      "cell_type": "code",
      "metadata": {
        "id": "9qK_QZ4TT83P",
        "colab_type": "code",
        "colab": {}
      },
      "source": [
        ""
      ],
      "execution_count": null,
      "outputs": []
    },
    {
      "cell_type": "code",
      "metadata": {
        "id": "ZsHjicWQT8vy",
        "colab_type": "code",
        "colab": {}
      },
      "source": [
        ""
      ],
      "execution_count": null,
      "outputs": []
    }
  ]
}